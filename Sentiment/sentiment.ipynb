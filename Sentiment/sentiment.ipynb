{
 "cells": [
  {
   "cell_type": "markdown",
   "metadata": {},
   "source": [
    "# Sentiment analysis with translaion, using transformers"
   ]
  },
  {
   "cell_type": "markdown",
   "metadata": {},
   "source": [
    "Translate from Polish to English:  \n",
    "https://huggingface.co/Helsinki-NLP/opus-mt-pl-en   \n",
    " \n",
    "Sentiment analysis:  \n",
    "https://huggingface.co/lxyuan/distilbert-base-multilingual-cased-sentiments-student"
   ]
  },
  {
   "cell_type": "code",
   "execution_count": 43,
   "metadata": {},
   "outputs": [],
   "source": [
    "# Imports\n",
    "from transformers import AutoTokenizer, AutoModelForSeq2SeqLM, pipeline"
   ]
  },
  {
   "cell_type": "code",
   "execution_count": 44,
   "metadata": {},
   "outputs": [],
   "source": [
    "# Model for translations\n",
    "tokenizer = AutoTokenizer.from_pretrained(\"Helsinki-NLP/opus-mt-pl-en\")\n",
    "model = AutoModelForSeq2SeqLM.from_pretrained(\"Helsinki-NLP/opus-mt-pl-en\")"
   ]
  },
  {
   "cell_type": "code",
   "execution_count": 45,
   "metadata": {},
   "outputs": [],
   "source": [
    "# Song to translate\n",
    "song = \" \".join(\n",
    "    [\n",
    "        \"Żyję w policyjnym państwie, gdzie wciąż pościg,\",\n",
    "        \"typy trą proszki, z nimi panny co żrą groszki,\",\n",
    "        \"mają pot gorzki, inni dużo piją,\",\n",
    "        \"jedni żyją chwilą, inni z losem się biją,\",\n",
    "        \"jak nie ma to się wiją, lub wyją, a jak rzucają to tyją\",\n",
    "        \"i niby się nie oszczędzają, ale jakoś żyją\",\n",
    "        \"jedni palą i się mulą, inni walą w rulon,\",\n",
    "        \"a lekarze podają pavulon \",\n",
    "        \"chuj z kulturą, tak jak handlowy pawilon ,\",\n",
    "        \"jedni pierdolą Babilon, inni golą bilon,\",\n",
    "        \"to jest polskie kasyno, dotknij - zejdzie lawiną,\",\n",
    "        \"wbrew karabinom, krąży hydro-cannabinol\",\n",
    "        \"dania na wynos wszędzie kupisz,\",\n",
    "        \"ten system łupi jak Goldberg,\",\n",
    "        \"chodź podobno jest głupi\",\n",
    "        \"płacisz słono, płacisz raz, płacisz drugi,\",\n",
    "        \"jesteś głupi - wpadasz w długi, nie masz nawet na szlugi\",\n",
    "        \"milionów serc bije tutaj,\",\n",
    "        \"zimny kraj, zimne flow, zimna wóda\",\n",
    "        \"wiesz jak jest - przecież żyjesz tutaj,\",\n",
    "        \"zimny kraj, zimne flow, zimna wóda\",\n",
    "        \"To opowieść o kolesiach co zasiedlają te bloki,\",\n",
    "        \"jedni golą sie na łyso, inni noszą dread-loki\",\n",
    "        \"jedni wciągają obłoki, inni kirają alpagi,\",\n",
    "        \"stan równowagi w kraju gdzie król jest nagi, ha,\",\n",
    "        \"ja naginam, piszę list jak Rakim,\",\n",
    "        \"pizgam rymy jak pod koszem haki,\",\n",
    "        \"jak Olawujon Hakeem,\",\n",
    "        \"miejsce na cmentarzu mam nie wiem jakim,\",\n",
    "        \"bit przeżuwam, jutro przeczuwam w sposób jakiś,\",\n",
    "        \"wątek, ileś lat wstecz - początek,\",\n",
    "        \"pamiętasz? ileś lat temu rzuciłem klątwę,\",\n",
    "        \"teraz się spełnia ta przepowiednia jak Jeru,\",\n",
    "        \"tu swe kroki kieruj,\",\n",
    "        \"mamy więcej rymów, niż jest koki w Peru,\",\n",
    "        \"to DGE skurwielu, weź se to przeliteruj\",\n",
    "        \"mam to w portfelu, w hotelu, holu, na fotelu,\",\n",
    "        \"rym bez fortelu, nie ma nas wielu, ale paru\",\n",
    "        \"ty dalej garuj, albo idź na parkiet cuty trenuj\",\n",
    "        \"milionów serc bije tutaj,\",\n",
    "        \"zimny kraj, zimne flow, zimna wóda\",\n",
    "        \"wiesz jak jest - przecież żyjesz tutaj,\",\n",
    "        \"zimny kraj, zimne flow, zimna wóda\",\n",
    "        \"To jest proste, mam bity polskie, mam rymy swojskie,\",\n",
    "        \"jak DJ rządzi woskiem, Gural rządzi tym co szorstkie,\",\n",
    "        \"z moim wojskiem rozjebie całą twoją wioskę\",\n",
    "        \"zanim zdążysz szepnąć: rany boskie,\",\n",
    "        \"daj to głośniej, jebać oddech nędzy, chcesz od tej jędzy\",\n",
    "        \"czy chcesz pieniędzy?\",\n",
    "        \"tu średnia zarobków to pięć tysięcy\",\n",
    "        \"jaka szkoda, że w pięć miesięcy,\",\n",
    "        \"milionów serc bije tutaj,\",\n",
    "        \"zimny kraj, zimne flow, zimna wóda\",\n",
    "        \"wiesz jak jest - przecież żyjesz tutaj,\",\n",
    "        \"zimny kraj, zimne flow, zimna wóda\",\n",
    "    ]\n",
    ")"
   ]
  },
  {
   "cell_type": "code",
   "execution_count": 46,
   "metadata": {},
   "outputs": [],
   "source": [
    "# Translation\n",
    "input = song\n",
    "input_ids = tokenizer.encode(input, return_tensors=\"pt\", truncation=True, max_length=512)\n",
    "translated = model.generate(input_ids)\n",
    "translated_input = tokenizer.decode(translated[0], skip_special_tokens=True)"
   ]
  },
  {
   "cell_type": "code",
   "execution_count": 47,
   "metadata": {},
   "outputs": [
    {
     "name": "stdout",
     "output_type": "stream",
     "text": [
      "I live in a police state\n",
      " where I still chase\n",
      " types of pills\n",
      " with them girls eating peas\n",
      " have bitter sweat\n",
      " others drink a lot\n",
      " some live in the moment\n",
      " others fight with fate\n",
      " as there are no pots\n",
      " or howling\n",
      " and as they throw it fat and as if they don't save themselves\n",
      " but somehow some people are burning and mulching\n",
      " some people are hitting the roulon\n",
      " and some doctors give a pavulon fucking culture\n",
      " like a commercial pavilion\n",
      " some people fucking Babylon\n",
      " somebody else's goal\n",
      " it's a Polish casino\n",
      " you pay once\n",
      " you're a fool\n",
      " you're a fool - you're in a long way\n",
      " you don't even have a hobby to go anywhere\n",
      " you'll buy a hobble system like Goldberg\n",
      " you're supposed to pay salt\n",
      " you pay once\n",
      " you pay another one\n",
      " you're stupid - you're a hobby\n",
      " you don't even have a hobby of millions of hearts around here\n",
      " you's water\n",
      " you'll be cold\n",
      " you've got a hobbyer\n",
      " you's down here\n",
      " you's\n"
     ]
    }
   ],
   "source": [
    "# Print translated song\n",
    "for line in translated_input.split(\",\"):\n",
    "    print(line)"
   ]
  },
  {
   "cell_type": "code",
   "execution_count": 48,
   "metadata": {},
   "outputs": [],
   "source": [
    "# Model for sentiment analysis\n",
    "distilled_student_sentiment_classifier = pipeline(\n",
    "    model=\"lxyuan/distilbert-base-multilingual-cased-sentiments-student\",\n",
    "    top_k=None,\n",
    ")"
   ]
  },
  {
   "cell_type": "code",
   "execution_count": 49,
   "metadata": {},
   "outputs": [
    {
     "data": {
      "text/plain": [
       "[[{'label': 'negative', 'score': 0.9060508012771606},\n",
       "  {'label': 'neutral', 'score': 0.050762005150318146},\n",
       "  {'label': 'positive', 'score': 0.04318720102310181}]]"
      ]
     },
     "execution_count": 49,
     "metadata": {},
     "output_type": "execute_result"
    }
   ],
   "source": [
    "# Sentiment of translated song\n",
    "distilled_student_sentiment_classifier(translated_input)"
   ]
  }
 ],
 "metadata": {
  "kernelspec": {
   "display_name": "Python 3",
   "language": "python",
   "name": "python3"
  },
  "language_info": {
   "codemirror_mode": {
    "name": "ipython",
    "version": 3
   },
   "file_extension": ".py",
   "mimetype": "text/x-python",
   "name": "python",
   "nbconvert_exporter": "python",
   "pygments_lexer": "ipython3",
   "version": "3.11.1"
  }
 },
 "nbformat": 4,
 "nbformat_minor": 2
}
